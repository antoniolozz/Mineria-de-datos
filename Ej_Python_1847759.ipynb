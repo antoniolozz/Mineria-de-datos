{
 "cells": [
  {
   "cell_type": "markdown",
   "metadata": {},
   "source": [
    "# EJERCICIOS PYTHON"
   ]
  },
  {
   "cell_type": "markdown",
   "metadata": {},
   "source": [
    "## EJERCICIO 1\n",
    "\n",
    "Realizar una variable con tu matrícula y realiza una secuencia de imprimir con tu nombre y matricula concatenados"
   ]
  },
  {
   "cell_type": "code",
   "execution_count": 5,
   "metadata": {},
   "outputs": [
    {
     "name": "stdout",
     "output_type": "stream",
     "text": [
      "Matricula: 1847759\n"
     ]
    }
   ],
   "source": [
    "a=439\n",
    "b=1359\n",
    "\n",
    "c=a*2+b**2\n",
    "\n",
    "print(\"Matricula:\",c)"
   ]
  },
  {
   "cell_type": "markdown",
   "metadata": {},
   "source": [
    "Input de usario"
   ]
  },
  {
   "cell_type": "code",
   "execution_count": 8,
   "metadata": {},
   "outputs": [
    {
     "name": "stdout",
     "output_type": "stream",
     "text": [
      "Ingresa tu nombre:Antonio de Jesus\n",
      "Ingresa tu apellido: Lozano Rangel\n",
      "Nombre: Antonio de Jesus Lozano Rangel Matricula: 1847759\n"
     ]
    }
   ],
   "source": [
    "a1= input(\"Ingresa tu nombre:\")\n",
    "b1= input(\"Ingresa tu apellido: \")\n",
    "\n",
    "print(\"Nombre:\",a1,b1, \"Matricula:\",c)"
   ]
  },
  {
   "cell_type": "markdown",
   "metadata": {},
   "source": [
    "## EJERCICIO 2\n",
    "\n",
    "Pidiendo el input del usuario pide dos números y crea una pequeña calculadora con los operadores básicos de suma, resta, multiplicación, división, y exponente."
   ]
  },
  {
   "cell_type": "code",
   "execution_count": 11,
   "metadata": {},
   "outputs": [
    {
     "name": "stdout",
     "output_type": "stream",
     "text": [
      "Ingresa el 1er número: 4\n",
      "Ingresa el 2do número: 8\n",
      "La suma de: 4 más 8 es = 12\n",
      "La resta de: 4 menos 8 es = -4\n",
      "La resta de: 8 menos 4 es = 4\n",
      "La multiplicación de: 4 por 8 es = 32\n",
      "La división de: 4 entre 8 es = 0.5\n",
      "La división de: 8 entre 4 es = 2.0\n",
      "La operacion de: 4 elavado a la 8 es = 65536\n",
      "La operacion de: 8 elavado a la 4 es = 4096\n"
     ]
    }
   ],
   "source": [
    "n1=int(input(\"Ingresa el 1er número: \"))\n",
    "n2=int(input(\"Ingresa el 2do número: \"))\n",
    "\n",
    "suma=n1+n2\n",
    "resta1=n1-n2\n",
    "resta2=n2-n1\n",
    "mult=n1*n2\n",
    "div1=n1/n2\n",
    "div2=n2/n1\n",
    "exp1=n1**n2\n",
    "exp2=n2**n1\n",
    "\n",
    "print(\"La suma de:\",n1,\"más\",n2,\"es =\",suma)\n",
    "print(\"La resta de:\",n1,\"menos\",n2,\"es =\",resta1)\n",
    "print(\"La resta de:\",n2,\"menos\",n1,\"es =\",resta2)\n",
    "print(\"La multiplicación de:\",n1,\"por\",n2,\"es =\",mult)\n",
    "print(\"La división de:\",n1,\"entre\",n2,\"es =\",div1)\n",
    "print(\"La división de:\",n2,\"entre\",n1,\"es =\",div2)\n",
    "print(\"La operacion de:\",n1,\"elavado a la\",n2,\"es =\",exp1)\n",
    "print(\"La operacion de:\",n2,\"elavado a la\",n1,\"es =\",exp2)"
   ]
  },
  {
   "cell_type": "markdown",
   "metadata": {},
   "source": [
    "## EJERCICIO 3\n",
    "\n",
    "Con loop while o for, realiza una lista de 10 numeros multiplos de 3, y después realiza una función de loop que sume todos los números dentro del arreglo."
   ]
  },
  {
   "cell_type": "code",
   "execution_count": 12,
   "metadata": {},
   "outputs": [
    {
     "name": "stdout",
     "output_type": "stream",
     "text": [
      "Lista de los 10 números divisores entre 3: [3, 6, 9, 12, 15, 18, 21, 24, 27, 30]\n",
      "Suma de los números divisores: 165\n"
     ]
    }
   ],
   "source": [
    "i= 1\n",
    "lista= []\n",
    "for i in range(1,31):\n",
    "    if i%3==0:\n",
    "        lista.append(i)\n",
    "i=i+1\n",
    "\n",
    "print(\"Lista de los 10 números divisores entre 3:\",lista)\n",
    "print(\"Suma de los números divisores:\",sum(lista))"
   ]
  },
  {
   "cell_type": "markdown",
   "metadata": {},
   "source": [
    "## EJERCICIO 4\n",
    "\n",
    "-Con una función de if else, revisar si un número es par o es impar.\n",
    "\n",
    "-Con una función de if else, revisar si un número es primo o no."
   ]
  },
  {
   "cell_type": "code",
   "execution_count": 16,
   "metadata": {},
   "outputs": [
    {
     "name": "stdout",
     "output_type": "stream",
     "text": [
      "Ingresa un número: 4\n",
      "El número 4 es par\n"
     ]
    }
   ],
   "source": [
    "n= int(input(\"Ingresa un número: \"))\n",
    "\n",
    "if n%2==0:\n",
    "    print(\"El número\",n,\"es par\")\n",
    "else:\n",
    "    print(\"El número\",n,\"es impar\")"
   ]
  },
  {
   "cell_type": "code",
   "execution_count": 18,
   "metadata": {},
   "outputs": [
    {
     "name": "stdout",
     "output_type": "stream",
     "text": [
      "Ingresa un número: 67\n",
      "Por lo que el número 67 es primo\n"
     ]
    }
   ],
   "source": [
    "n2=int(input(\"Ingresa un número: \"))\n",
    "i=0\n",
    "c=0\n",
    "\n",
    "for i in range (2,n2-1):\n",
    "    if n2%i==0:\n",
    "        c= c+1\n",
    "i=i+1\n",
    "\n",
    "if c>0:\n",
    "    print(\"Por lo que el número\",n2,\"no es primo\")\n",
    "else:\n",
    "    print (\"Por lo que el número\",n2,\"es primo\")"
   ]
  },
  {
   "cell_type": "markdown",
   "metadata": {},
   "source": [
    "## EJERCICIO 5\n",
    "\n",
    "Utilizando diferentes clases en python, crea una calculadora con los operadores básicos de suma, resta, multiplicación, división, y exponente."
   ]
  },
  {
   "cell_type": "code",
   "execution_count": 20,
   "metadata": {},
   "outputs": [
    {
     "name": "stdout",
     "output_type": "stream",
     "text": [
      "Ingresa el primer número:8\n",
      "Ingresa el segundo número:7\n",
      "La suma de: 8 más 7 es= 15\n",
      "La resta de: 8 menos 7 es= 1\n",
      "La resta de: 7 menos 8 es= -1\n",
      "La multiplicación de: 8 por 7 es= 56\n",
      "La división de: 8 entre 7 es= 1.1428571428571428\n",
      "La división de: 7 entre 8 es= 0.875\n",
      "El número: 8 elevado a la: 7 es= 2097152.0\n",
      "El número 7 elevado a la: 8 es= 5764801.0\n"
     ]
    }
   ],
   "source": [
    "import math as m\n",
    "\n",
    "n1= int(input(\"Ingresa el primer número:\"))\n",
    "n2= int(input(\"Ingresa el segundo número:\"))\n",
    "\n",
    "suma= n1+n2\n",
    "resta1= n1-n2\n",
    "resta2= n2-n1\n",
    "mult= n1*n2\n",
    "div1= n1/n2\n",
    "div2= n2/n1\n",
    "exp1= m.pow(n1,n2)\n",
    "exp2= m.pow(n2,n1)\n",
    "\n",
    "print(\"La suma de:\",n1,\"más\",n2,\"es=\",suma)\n",
    "print(\"La resta de:\",n1,\"menos\",n2,\"es=\",resta1)\n",
    "print(\"La resta de:\",n2,\"menos\",n1,\"es=\",resta2)\n",
    "print(\"La multiplicación de:\",n1,\"por\",n2,\"es=\",mult)\n",
    "print(\"La división de:\",n1,\"entre\",n2,\"es=\",div1)\n",
    "print(\"La división de:\",n2, \"entre\",n1,\"es=\",div2)\n",
    "print(\"El número:\",n1,\"elevado a la:\",n2,\"es=\",exp1)\n",
    "print(\"El número\",n2,\"elevado a la:\",n1,\"es=\",exp2)"
   ]
  },
  {
   "cell_type": "markdown",
   "metadata": {},
   "source": [
    "## Ejercicios con estructuras básicas de python\n",
    "\n",
    "### Tuplas\n",
    "\n",
    "Crear una variable flotante, integer, boleana y compleja e imprimir el tipo de variable que es."
   ]
  },
  {
   "cell_type": "code",
   "execution_count": 25,
   "metadata": {},
   "outputs": [
    {
     "name": "stdout",
     "output_type": "stream",
     "text": [
      "La variable: 6.9 es tipo: <class 'float'>\n",
      "La variable: 7 es tipo: <class 'int'>\n",
      "La variable: False es tipo: <class 'bool'>\n",
      "La variable: (7+9j) es tipo: <class 'complex'>\n"
     ]
    }
   ],
   "source": [
    "tupla=(6.9,7,False,7+9j)\n",
    "for i in range (len(tupla)):\n",
    "    print(\"La variable:\",tupla[i], \"es tipo:\", type(tupla[i]))"
   ]
  },
  {
   "cell_type": "markdown",
   "metadata": {},
   "source": [
    "Crear una tupla con valores enteros imprimir el primer y ultimo valor."
   ]
  },
  {
   "cell_type": "code",
   "execution_count": 26,
   "metadata": {},
   "outputs": [
    {
     "name": "stdout",
     "output_type": "stream",
     "text": [
      "El primer valor es: 7\n",
      "El ultimo valor es: 89\n"
     ]
    }
   ],
   "source": [
    "tupla=(7,5,0,4,4,10,101,89)\n",
    "print (\"El primer valor es:\", tupla[0])\n",
    "print (\"El ultimo valor es:\", tupla[len(tupla)-1])"
   ]
  },
  {
   "cell_type": "markdown",
   "metadata": {},
   "source": [
    "Añadir 3 valores de string a la tupla."
   ]
  },
  {
   "cell_type": "code",
   "execution_count": 27,
   "metadata": {},
   "outputs": [
    {
     "name": "stdout",
     "output_type": "stream",
     "text": [
      "(7, 5, 0, 4, 4, 10, 101, 89, 'mineria', 'datos', 'bases')\n"
     ]
    }
   ],
   "source": [
    "tupla=(7,5,0,4,4,10,101,89)\n",
    "tuplalista=list(tupla)\n",
    "tuplalista.append(\"mineria\")\n",
    "tuplalista.append(\"datos\")\n",
    "tuplalista.append(\"bases\")\n",
    "\n",
    "tuplafin= tuple(tuplalista)\n",
    "print(tuplafin)"
   ]
  },
  {
   "cell_type": "markdown",
   "metadata": {},
   "source": [
    "Verificar si una variable existe dentro de la tupla."
   ]
  },
  {
   "cell_type": "code",
   "execution_count": 30,
   "metadata": {},
   "outputs": [
    {
     "name": "stdout",
     "output_type": "stream",
     "text": [
      "Ingresa el valor que buscas: 101\n",
      "La variable: 101 existe dentro de la tupla\n"
     ]
    }
   ],
   "source": [
    "tupla=(7,5,0,4,4,10,101,89)\n",
    "c=0\n",
    "valor= int(input(\"Ingresa el valor que buscas: \"))\n",
    "\n",
    "for i in range (len(tupla)):\n",
    "    if valor==tupla[i]:\n",
    "        c=c+1\n",
    "        \n",
    "if c==0:\n",
    "    print(\"La variable:\",valor,\"no existe dentro de la tupla\")\n",
    "else:\n",
    "    print(\"La variable:\",valor,\"existe dentro de la tupla\")"
   ]
  },
  {
   "cell_type": "markdown",
   "metadata": {},
   "source": [
    "### Listas\n",
    "\n",
    "Crear una lista con 40 elementos aleatorios enteros."
   ]
  },
  {
   "cell_type": "code",
   "execution_count": 31,
   "metadata": {},
   "outputs": [
    {
     "name": "stdout",
     "output_type": "stream",
     "text": [
      "[419, 439, 534, 101, 194, 362, 170, 431, 611, 626, 443, 233, 755, 721, 407, 730, 269, 631, 276, 661, 275, 682, 289, 223, 700, 218, 499, 151, 474, 327, 270, 745, 56, 141, 593, 215, 287, 36, 491, 71]\n"
     ]
    }
   ],
   "source": [
    "import random as r\n",
    "i=0\n",
    "lista=[]\n",
    "\n",
    "for i in range(40):\n",
    "    val=r.randint(0,777)\n",
    "    lista.append(val)\n",
    "print(lista)"
   ]
  },
  {
   "cell_type": "markdown",
   "metadata": {},
   "source": [
    "Con una funcion (def) crear dos listas nuevas a partir de la lista creada por numeros aleatorios, en la cual en una esten los elementos pares, y en la otra los elementos impares."
   ]
  },
  {
   "cell_type": "code",
   "execution_count": 32,
   "metadata": {},
   "outputs": [
    {
     "name": "stdout",
     "output_type": "stream",
     "text": [
      "[637, 3, 575, 742, 699, 423, 156, 636, 189, 308, 722, 588, 709, 424, 387]\n",
      "Lista de los pares: [742, 156, 636, 308, 722, 588, 424]\n",
      "Lista de los impares: [637, 3, 575, 699, 423, 189, 709, 387]\n"
     ]
    }
   ],
   "source": [
    "import random as r\n",
    "i=0\n",
    "lista=[]\n",
    "\n",
    "for i in range(15):\n",
    "    val=r.randint(0,777)\n",
    "    lista.append(val)\n",
    "print(lista)\n",
    "\n",
    "def separar(l):\n",
    "    j=0\n",
    "    listapares=[]\n",
    "    listaimpares=[]\n",
    "    for j in range(15):\n",
    "        if lista[j] % 2 == 0:\n",
    "            listapares.append(lista[j])\n",
    "        else:\n",
    "            listaimpares.append(lista[j])\n",
    "    print(\"Lista de los pares:\",listapares)\n",
    "    print(\"Lista de los impares:\",listaimpares)\n",
    "    \n",
    "separar(lista)"
   ]
  },
  {
   "cell_type": "markdown",
   "metadata": {},
   "source": [
    "Crear dos variables con la longitud de ambas listas nuevas e imprimir las variables."
   ]
  },
  {
   "cell_type": "code",
   "execution_count": 34,
   "metadata": {},
   "outputs": [
    {
     "name": "stdout",
     "output_type": "stream",
     "text": [
      "[647, 18, 311, 464, 352, 309, 260, 613, 568, 41, 350, 380, 176, 593, 144]\n",
      "Lista de los pares: [18, 464, 352, 260, 568, 350, 380, 176, 144]\n",
      "Lista de los impares: [647, 311, 309, 613, 41, 593]\n",
      "Longitud de la lista de los pares: 9\n",
      "Longitud de la lista de los impares: 6\n"
     ]
    }
   ],
   "source": [
    "import random as r\n",
    "i=0\n",
    "lista=[]\n",
    "\n",
    "for i in range(15):\n",
    "    val=r.randint(0,777)\n",
    "    lista.append(val)\n",
    "print(lista)\n",
    "\n",
    "def separar(l):\n",
    "    j=0\n",
    "    listapares=[]\n",
    "    listaimpares=[]\n",
    "    for j in range(15):\n",
    "        if lista[j] % 2 == 0:\n",
    "            listapares.append(lista[j])\n",
    "        else:\n",
    "            listaimpares.append(lista[j])\n",
    "    print(\"Lista de los pares:\",listapares)\n",
    "    print(\"Lista de los impares:\",listaimpares)\n",
    "    print(\"Longitud de la lista de los pares:\",len(listapares))\n",
    "    print(\"Longitud de la lista de los impares:\",len(listaimpares))\n",
    "    \n",
    "separar(lista)"
   ]
  },
  {
   "cell_type": "markdown",
   "metadata": {},
   "source": [
    "Ordenar los elementos de la lista par de mayor a menor, y los de la lista impar de menor a mayor."
   ]
  },
  {
   "cell_type": "code",
   "execution_count": 35,
   "metadata": {},
   "outputs": [
    {
     "name": "stdout",
     "output_type": "stream",
     "text": [
      "[125, 341, 556, 501, 565, 490, 376, 323, 637, 182, 286, 538, 321, 363, 600]\n",
      "Lista de los pares: [556, 490, 376, 182, 286, 538, 600]\n",
      "Lista de los impares: [125, 341, 501, 565, 323, 637, 321, 363]\n",
      "Longitud de la lista de los pares: 7\n",
      "Longitud de la lista de los impares: 8\n",
      "Lista de los pares de mayor a menor: [600, 556, 538, 490, 376, 286, 182]\n",
      "Lista de los impares de menor a mayor: [125, 321, 323, 341, 363, 501, 565, 637]\n"
     ]
    }
   ],
   "source": [
    "import random as r\n",
    "i=0\n",
    "lista=[]\n",
    "\n",
    "for i in range(15):\n",
    "    val=r.randint(0,777)\n",
    "    lista.append(val)\n",
    "print(lista)\n",
    "\n",
    "def separar(l):\n",
    "    j=0\n",
    "    listapares=[]\n",
    "    listaimpares=[]\n",
    "    for j in range(15):\n",
    "        if lista[j] % 2 == 0:\n",
    "            listapares.append(lista[j])\n",
    "        else:\n",
    "            listaimpares.append(lista[j])\n",
    "    print(\"Lista de los pares:\",listapares)\n",
    "    print(\"Lista de los impares:\",listaimpares)\n",
    "    print(\"Longitud de la lista de los pares:\",len(listapares))\n",
    "    print(\"Longitud de la lista de los impares:\",len(listaimpares))\n",
    "    print(\"Lista de los pares de mayor a menor:\",sorted(listapares,reverse=True))\n",
    "    print(\"Lista de los impares de menor a mayor:\",sorted(listaimpares))\n",
    "    \n",
    "separar(lista)"
   ]
  },
  {
   "cell_type": "markdown",
   "metadata": {},
   "source": [
    "Utilizar al menos cuatro de las funciones de listas en python en la lista original de 40 elementos."
   ]
  },
  {
   "cell_type": "code",
   "execution_count": 36,
   "metadata": {},
   "outputs": [
    {
     "name": "stdout",
     "output_type": "stream",
     "text": [
      "[299, 766, 676, 275, 520, 355, 86, 647, 429, 262, 267, 169, 446, 86, 735, 707, 666, 154, 220, 475, 29, 646, 64, 515, 631, 301, 468, 124, 654, 547, 113, 513, 479, 104, 686, 161, 341, 73, 35, 3]\n",
      "Suma de la lista: 14727\n",
      "Longitud de la lista: 40\n",
      "Número mayor de la lista: 766\n",
      "Número menor de la lista: 3\n"
     ]
    }
   ],
   "source": [
    "import random as r\n",
    "i=0\n",
    "lista=[]\n",
    "\n",
    "for i in range(40):\n",
    "    val=r.randint(0,777)\n",
    "    lista.append(val)\n",
    "print(lista)\n",
    "\n",
    "print(\"Suma de la lista:\",sum(lista))\n",
    "print(\"Longitud de la lista:\",len(lista))\n",
    "print(\"Número mayor de la lista:\",max(lista))\n",
    "print(\"Número menor de la lista:\",min(lista))"
   ]
  },
  {
   "cell_type": "markdown",
   "metadata": {},
   "source": [
    " ### Diccionarios\n",
    " \n",
    " Crear un diccionario de 6 personas que conozcas con su primer nombre y su edad."
   ]
  },
  {
   "cell_type": "code",
   "execution_count": 37,
   "metadata": {},
   "outputs": [
    {
     "name": "stdout",
     "output_type": "stream",
     "text": [
      "{1: ['Martha', 43], 2: ['Jorge', 9], 3: ['Alberto', 21], 4: ['Ana', 19], 5: ['Yamna', 4], 6: ['Yaneth', 29]}\n"
     ]
    }
   ],
   "source": [
    "diccionario= {1:[\"Martha\",43], 2:[\"Jorge\",9], 3:[\"Alberto\",21], 4: [\"Ana\",19], 5: [\"Yamna\",4], 6: [\"Yaneth\",29]}\n",
    "print(diccionario)"
   ]
  },
  {
   "cell_type": "markdown",
   "metadata": {},
   "source": [
    "Crear una lista con los valores de la edad y reacomodar la lista de menor a mayor valor."
   ]
  },
  {
   "cell_type": "code",
   "execution_count": 38,
   "metadata": {},
   "outputs": [
    {
     "name": "stdout",
     "output_type": "stream",
     "text": [
      "{1: ['Martha', 43], 2: ['Jorge', 9], 3: ['Alberto', 21], 4: ['Ana', 19], 5: ['Yamna', 4], 6: ['Yaneth', 29]}\n",
      "Edades ordenadas: [4, 9, 19, 21, 29, 43]\n"
     ]
    }
   ],
   "source": [
    "diccionario= {1:[\"Martha\",43], 2:[\"Jorge\",9], 3:[\"Alberto\",21], 4: [\"Ana\",19], 5: [\"Yamna\",4], 6: [\"Yaneth\",29]}\n",
    "print(diccionario)\n",
    "\n",
    "edades = []\n",
    "for i in range(1,7):\n",
    "    edades.append(diccionario[i][1])\n",
    "print(\"Edades ordenadas:\", sorted(edades))"
   ]
  },
  {
   "cell_type": "markdown",
   "metadata": {},
   "source": [
    "Usando el diccionario y un loop, imprimir solo los nombres."
   ]
  },
  {
   "cell_type": "code",
   "execution_count": 39,
   "metadata": {},
   "outputs": [
    {
     "name": "stdout",
     "output_type": "stream",
     "text": [
      "Nombres:\n",
      "Martha\n",
      "Jorge\n",
      "Alberto\n",
      "Ana\n",
      "Yamna\n",
      "Yaneth\n"
     ]
    }
   ],
   "source": [
    "diccionario= {1:[\"Martha\",43], 2:[\"Jorge\",9], 3:[\"Alberto\",21], 4: [\"Ana\",19], 5: [\"Yamna\",4], 6: [\"Yaneth\",29]}\n",
    "print(\"Nombres:\")\n",
    "for i in range(1,7):\n",
    "    print(diccionario[i][0])"
   ]
  },
  {
   "cell_type": "markdown",
   "metadata": {},
   "source": [
    "Añadir dos personas nuevas a tu diccionario, incluyendo edad."
   ]
  },
  {
   "cell_type": "code",
   "execution_count": 40,
   "metadata": {},
   "outputs": [
    {
     "name": "stdout",
     "output_type": "stream",
     "text": [
      "Agregar a la primer persona\n",
      "Inserte el nombre: Eduardo\n",
      "Inserte su edad: 26\n",
      "Agregar a la segunda persona\n",
      "Inserte su nombre: Francisco\n",
      "Inserte su edad: 31\n",
      "{1: ['Martha', 43], 2: ['Jorge', 9], 3: ['Alberto', 21], 4: ['Ana', 19], 5: ['Yamna', 4], 6: ['Yaneth', 29], 7: ['Eduardo', '26'], 8: ['Francisco', '31']}\n"
     ]
    }
   ],
   "source": [
    "diccionario= {1:[\"Martha\",43], 2:[\"Jorge\",9], 3:[\"Alberto\",21], 4: [\"Ana\",19], 5: [\"Yamna\",4], 6: [\"Yaneth\",29]}\n",
    "\n",
    "print(\"Agregar a la primer persona\")\n",
    "n1= input(\"Inserte el nombre: \")\n",
    "e1= input(\"Inserte su edad: \")\n",
    "\n",
    "print(\"Agregar a la segunda persona\")\n",
    "n2= input(\"Inserte su nombre: \")\n",
    "e2= input(\"Inserte su edad: \")\n",
    "\n",
    "diccionario[7]= [n1,e1]\n",
    "diccionario[8]= [n2,e2]\n",
    "\n",
    "print(diccionario)"
   ]
  },
  {
   "cell_type": "markdown",
   "metadata": {},
   "source": [
    "### Sets\n",
    "\n",
    "Crea un set con 100 numeros aleatorios enteros del 1 al 25."
   ]
  },
  {
   "cell_type": "code",
   "execution_count": 41,
   "metadata": {},
   "outputs": [
    {
     "name": "stdout",
     "output_type": "stream",
     "text": [
      "El Set es:  {1, 2, 3, 4, 5, 6, 7, 8, 9, 10, 11, 12, 13, 14, 15, 16, 17, 18, 19, 21, 22, 23, 24, 25}\n"
     ]
    }
   ],
   "source": [
    "import random as r\n",
    "lista=[]\n",
    "\n",
    "for i in range(100):\n",
    "    val=r.randint(1,25)\n",
    "    lista.append(val)\n",
    "    lista = list(set(lista))\n",
    "\n",
    "print(\"El Set es: \", set(lista))"
   ]
  },
  {
   "cell_type": "markdown",
   "metadata": {},
   "source": [
    "Comprueba la longitud de tu set"
   ]
  },
  {
   "cell_type": "code",
   "execution_count": 43,
   "metadata": {},
   "outputs": [
    {
     "name": "stdout",
     "output_type": "stream",
     "text": [
      "El set es:  {1, 2, 3, 4, 5, 6, 7, 8, 9, 10, 11, 12, 13, 14, 15, 16, 17, 18, 19, 20, 21, 22, 23, 24, 25}\n",
      "Su longitud es de :  25\n"
     ]
    }
   ],
   "source": [
    "import random as r\n",
    "lista=[]\n",
    "\n",
    "for i in range(100):\n",
    "    val=r.randint(1,25)\n",
    "    lista.append(val)\n",
    "    lista = list(set(lista))\n",
    "\n",
    "print(\"El set es: \", set(lista))\n",
    "print(\"Su longitud es de : \", len(lista))"
   ]
  },
  {
   "cell_type": "markdown",
   "metadata": {},
   "source": [
    "Crea una lista de 5 numeros aleatorios del 1 al 10 y comprueba si cada valor aparece en el set inicial."
   ]
  },
  {
   "cell_type": "code",
   "execution_count": 44,
   "metadata": {},
   "outputs": [
    {
     "name": "stdout",
     "output_type": "stream",
     "text": [
      "El Set es:  {1, 2, 3, 4, 5, 6, 7, 8, 9, 10, 11, 13, 14, 15, 16, 17, 18, 19, 20, 21, 22, 23, 24, 25}\n",
      "Su longitud es de:  24\n",
      "Lista de los 5 números randoms: [9, 10, 7, 9, 8]\n",
      "9 Si aparece en el Set inicial\n",
      "10 Si aparece en el Set inicial\n",
      "7 Si aparece en el Set inicial\n",
      "9 Si aparece en el Set inicial\n",
      "8 Si aparece en el Set inicial\n"
     ]
    }
   ],
   "source": [
    "import random as r\n",
    "lista=[]\n",
    "lista1=[]\n",
    "\n",
    "for i in range(100):\n",
    "    val=r.randint(1,25)\n",
    "    lista.append(val)\n",
    "    lista = list(set(lista))\n",
    "\n",
    "print(\"El Set es: \", set(lista))\n",
    "print(\"Su longitud es de: \", len(lista))\n",
    "\n",
    "for i in range(5):\n",
    "    aleat= r.randint(1, 10)\n",
    "    lista1.append(aleat)\n",
    "print(\"Lista de los 5 números randoms:\",lista1)\n",
    "\n",
    "for i in range(5):\n",
    "    for j  in range(len(lista)):\n",
    "        if lista1[i] == lista[j]:\n",
    "            print(lista1[i], \"Si aparece en el Set inicial\")"
   ]
  }
 ],
 "metadata": {
  "kernelspec": {
   "display_name": "Python 3",
   "language": "python",
   "name": "python3"
  },
  "language_info": {
   "codemirror_mode": {
    "name": "ipython",
    "version": 3
   },
   "file_extension": ".py",
   "mimetype": "text/x-python",
   "name": "python",
   "nbconvert_exporter": "python",
   "pygments_lexer": "ipython3",
   "version": "3.8.5"
  }
 },
 "nbformat": 4,
 "nbformat_minor": 4
}
